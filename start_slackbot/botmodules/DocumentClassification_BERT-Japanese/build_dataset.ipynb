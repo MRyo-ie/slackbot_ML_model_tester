{
 "cells": [
  {
   "cell_type": "markdown",
   "metadata": {},
   "source": [
    "## Data : livedoorニュースコーパス 9クラス分類"
   ]
  },
  {
   "cell_type": "code",
   "execution_count": 11,
   "metadata": {},
   "outputs": [
    {
     "name": "stdout",
     "output_type": "stream",
     "text": [
      "--2021-03-28 11:51:02--  https://www.rondhuit.com/download/ldcc-20140209.tar.gz\n",
      "Resolving www.rondhuit.com (www.rondhuit.com)... 59.106.19.174\n",
      "Connecting to www.rondhuit.com (www.rondhuit.com)|59.106.19.174|:443... connected.\n",
      "HTTP request sent, awaiting response... 200 OK\n",
      "Length: 8855190 (8.4M) [application/x-gzip]\n",
      "Saving to: ‘ldcc-20140209.tar.gz’\n",
      "\n",
      "ldcc-20140209.tar.g 100%[===================>]   8.44M   322KB/s    in 33s     \n",
      "\n",
      "2021-03-28 11:51:36 (263 KB/s) - ‘ldcc-20140209.tar.gz’ saved [8855190/8855190]\n",
      "\n"
     ]
    }
   ],
   "source": [
    "# ダウンロード\n",
    "!wget \"https://www.rondhuit.com/download/ldcc-20140209.tar.gz\""
   ]
  },
  {
   "cell_type": "code",
   "execution_count": 12,
   "metadata": {},
   "outputs": [],
   "source": [
    "import tarfile\n",
    "import os\n",
    "import json"
   ]
  },
  {
   "cell_type": "code",
   "execution_count": 13,
   "metadata": {},
   "outputs": [
    {
     "name": "stdout",
     "output_type": "stream",
     "text": [
      "['peachy', 'kaden-channel', 'README.txt', 'sports-watch', 'smax', 'topic-news', 'CHANGES.txt', 'it-life-hack', 'livedoor-homme', 'movie-enter', 'dokujo-tsushin']\n",
      "カテゴリー数: 9\n",
      "['peachy', 'kaden-channel', 'sports-watch', 'smax', 'topic-news', 'it-life-hack', 'livedoor-homme', 'movie-enter', 'dokujo-tsushin']\n"
     ]
    }
   ],
   "source": [
    "## ファイルを解凍し、カテゴリー数と内容を確認\n",
    "# 解凍\n",
    "tar = tarfile.open(\"./data/ldcc-20140209.tar.gz\", \"r:gz\")\n",
    "tar.extractall(\"./data/livedoor/\")\n",
    "tar.close()\n",
    "\n",
    "# フォルダのファイルとディレクトリを確認\n",
    "files_folders = [name for name in os.listdir(\"./data/livedoor/text/\")]\n",
    "print(files_folders)\n",
    "\n",
    "# カテゴリーのフォルダのみを抽出\n",
    "categories = [name for name in os.listdir(\n",
    "    \"./data/livedoor/text/\") if os.path.isdir(\"./data/livedoor/text/\"+name)]\n",
    "\n",
    "print(\"カテゴリー数:\", len(categories))\n",
    "print(categories)"
   ]
  },
  {
   "cell_type": "code",
   "execution_count": 14,
   "metadata": {},
   "outputs": [
    {
     "name": "stdout",
     "output_type": "stream",
     "text": [
      "0： http://news.livedoor.com/article/detail/6255260/\n",
      "\n",
      "1： 2012-02-07T09:00:00+0900\n",
      "\n",
      "2： 新しいヴァンパイアが誕生！　ジョニデ主演『ダーク・シャドウ』の公開日が決定\n",
      "\n",
      "3： 　こんなヴァンパイアは見たことがない！　ジョニー・デップとティム・バートン監督がタッグを組んだ映画『ダーク・シャドウズ（原題）』の邦題が『ダーク・シャドウ』に決定。日本公開日が5月19日に決まった。さらに、ジョニー・デップ演じるヴァンパイアの写真が公開された。\n",
      "\n"
     ]
    }
   ],
   "source": [
    "# ファイルの中身を確認してみる\n",
    "file_name = \"./data/livedoor/text/movie-enter/movie-enter-6255260.txt\"\n",
    "\n",
    "with open(file_name) as text_file:\n",
    "    text = text_file.readlines()\n",
    "    print(\"0：\", text[0])  # URL情報\n",
    "    print(\"1：\", text[1])  # タイムスタンプ\n",
    "    print(\"2：\", text[2])  # タイトル\n",
    "    print(\"3：\", text[3])  # 本文\n",
    "\n",
    "    # 今回は4要素目には本文は伸びていないが、4要素目以降に本文がある場合もある"
   ]
  },
  {
   "cell_type": "markdown",
   "metadata": {},
   "source": [
    "### 本文を取得する"
   ]
  },
  {
   "cell_type": "code",
   "execution_count": 15,
   "metadata": {},
   "outputs": [],
   "source": [
    "# 前処理関数を定義\n",
    "def extract_main_txt(file_name):\n",
    "    with open(file_name) as text_file:\n",
    "        # 今回はタイトル行は外したいので、3要素目以降の本文のみ使用\n",
    "        text = text_file.readlines()[3:]\n",
    "\n",
    "        # 3要素目以降にも本文が入っている場合があるので、リストにして、後で結合させる\n",
    "        text = [sentence.strip() for sentence in text]  # 空白文字(スペースやタブ、改行)の削除\n",
    "        text = list(filter(lambda line: line != '', text))\n",
    "        text = ''.join(text)\n",
    "        text = text.translate(str.maketrans(\n",
    "            {'\\n': '', '\\t': '', '\\r': '', '\\u3000': ''}))  # 改行やタブ、全角スペースを消す\n",
    "        return text"
   ]
  },
  {
   "cell_type": "code",
   "execution_count": 16,
   "metadata": {},
   "outputs": [],
   "source": [
    "# リストに前処理した本文と、カテゴリーのラベルを追加していく\n",
    "import glob\n",
    "\n",
    "list_text = []\n",
    "list_label = []\n",
    "\n",
    "for cat in categories:\n",
    "    text_files = glob.glob(os.path.join(\"./data/livedoor/text\", cat, \"*.txt\"))\n",
    "\n",
    "    # 前処理extract_main_txtを実施して本文を取得\n",
    "    body = [extract_main_txt(text_file) for text_file in text_files]\n",
    "\n",
    "    label = [cat] * len(body)  # bodyの数文だけカテゴリー名のラベルのリストを作成\n",
    "\n",
    "    list_text.extend(body)  # appendが要素を追加するのに対して、extendはリストごと追加する\n",
    "    list_label.extend(label)"
   ]
  },
  {
   "cell_type": "code",
   "execution_count": 17,
   "metadata": {},
   "outputs": [
    {
     "name": "stdout",
     "output_type": "stream",
     "text": [
      "アメリカの女子たちに大人気のドラマ「ゴシップガール」のシーズン2、「ゴシップガール2」が、いよいよ4/15（木）21：00から、スーパー！ドラマTVにて放映されます。キュートなカップルだったセリーナとダン、格差カップルのネイトとヴァネッサ、そして恋よりプライド優先のブレアと女たらしのチャックという、まさかのカップルがそれぞれ破局？！というショッキングなエンディングで最終回を迎えたシーズン1。夏休みも終わりに近づき、彼らが再会するところからシーズン2は始まります。いったい、ブレアとチャックの恋の行方はどうなるのか？破局を迎えたセリーナとダンの復縁はあるのか？ 弱冠15歳のジェニーの“学園の女王”への野望は？家庭問題に翻弄されるネイトが頼る意外な人物とは？セリーナの母リリーとダンの父ルーファスの関係はいったいどうなるのか？ブレアやセリーナたちが高校生活最後の年を過ごす日々は、ファンの期待と予想をはるかに上回るドラマティックでスキャンダラスなストーリーが展開します。ニューヨークの本物のソーシャライトやデザイナーら、セレブが本人役で登場するところも、見逃せないポイント。話題のセレブやニューヨークのトレンドを語る上でも欠かせない、ホットなトピック満載の最新ＴＶシリーズ「ゴシップガール2」、ぜひチェックしてみて！■「ゴシップガール2」スーパー！ドラマTVにて、4/15（木）21：00 独占日本初放送スタート！二カ国語版・字幕版にて放送！毎週木曜21：00 ほか■関連リンク・ゴシップガール GOSSIPGIRL 公式サイト・スーパー！ドラマＴＶ\n",
      "peachy\n"
     ]
    }
   ],
   "source": [
    "# 0番目の文章とラベルを確認\n",
    "print(list_text[0])\n",
    "print(list_label[0])"
   ]
  },
  {
   "cell_type": "code",
   "execution_count": 18,
   "metadata": {},
   "outputs": [
    {
     "name": "stdout",
     "output_type": "stream",
     "text": [
      "(7376, 2)\n"
     ]
    },
    {
     "data": {
      "text/html": [
       "<div>\n",
       "<style scoped>\n",
       "    .dataframe tbody tr th:only-of-type {\n",
       "        vertical-align: middle;\n",
       "    }\n",
       "\n",
       "    .dataframe tbody tr th {\n",
       "        vertical-align: top;\n",
       "    }\n",
       "\n",
       "    .dataframe thead th {\n",
       "        text-align: right;\n",
       "    }\n",
       "</style>\n",
       "<table border=\"1\" class=\"dataframe\">\n",
       "  <thead>\n",
       "    <tr style=\"text-align: right;\">\n",
       "      <th></th>\n",
       "      <th>text</th>\n",
       "      <th>label</th>\n",
       "    </tr>\n",
       "  </thead>\n",
       "  <tbody>\n",
       "    <tr>\n",
       "      <th>0</th>\n",
       "      <td>アメリカの女子たちに大人気のドラマ「ゴシップガール」のシーズン2、「ゴシップガール2」が、い...</td>\n",
       "      <td>peachy</td>\n",
       "    </tr>\n",
       "    <tr>\n",
       "      <th>1</th>\n",
       "      <td>この冬、スマフォであなたの生活を楽しくする「au×Hangame ドキドキ スマフォキャンペ...</td>\n",
       "      <td>peachy</td>\n",
       "    </tr>\n",
       "    <tr>\n",
       "      <th>2</th>\n",
       "      <td>味噌汁専門店の「美噌元」より、今話題のトマトを使ったフリーズドライ味噌汁「トマトとオクラ」が...</td>\n",
       "      <td>peachy</td>\n",
       "    </tr>\n",
       "    <tr>\n",
       "      <th>3</th>\n",
       "      <td>最近は「カメラ女子」なんて言葉もあるほど、女子の間でもデジタル一眼が大ブーム。今まではケータ...</td>\n",
       "      <td>peachy</td>\n",
       "    </tr>\n",
       "    <tr>\n",
       "      <th>4</th>\n",
       "      <td>“カタツムリ”で、何を連想しますか？日本人にとって、カタツムリはあまり馴染みのないものですが...</td>\n",
       "      <td>peachy</td>\n",
       "    </tr>\n",
       "  </tbody>\n",
       "</table>\n",
       "</div>"
      ],
      "text/plain": [
       "                                                text   label\n",
       "0  アメリカの女子たちに大人気のドラマ「ゴシップガール」のシーズン2、「ゴシップガール2」が、い...  peachy\n",
       "1  この冬、スマフォであなたの生活を楽しくする「au×Hangame ドキドキ スマフォキャンペ...  peachy\n",
       "2  味噌汁専門店の「美噌元」より、今話題のトマトを使ったフリーズドライ味噌汁「トマトとオクラ」が...  peachy\n",
       "3  最近は「カメラ女子」なんて言葉もあるほど、女子の間でもデジタル一眼が大ブーム。今まではケータ...  peachy\n",
       "4  “カタツムリ”で、何を連想しますか？日本人にとって、カタツムリはあまり馴染みのないものですが...  peachy"
      ]
     },
     "execution_count": 18,
     "metadata": {},
     "output_type": "execute_result"
    }
   ],
   "source": [
    "# pandasのDataFrameにする\n",
    "import pandas as pd\n",
    "\n",
    "df = pd.DataFrame({'text': list_text, 'label': list_label})\n",
    "\n",
    "# 大きさを確認しておく（7,376文章が存在）\n",
    "print(df.shape)\n",
    "\n",
    "df.head()"
   ]
  },
  {
   "cell_type": "code",
   "execution_count": 19,
   "metadata": {},
   "outputs": [
    {
     "name": "stdout",
     "output_type": "stream",
     "text": [
      "{0: 'peachy', 1: 'kaden-channel', 2: 'sports-watch', 3: 'smax', 4: 'topic-news', 5: 'it-life-hack', 6: 'livedoor-homme', 7: 'movie-enter', 8: 'dokujo-tsushin'}\n",
      "{'peachy': 0, 'kaden-channel': 1, 'sports-watch': 2, 'smax': 3, 'topic-news': 4, 'it-life-hack': 5, 'livedoor-homme': 6, 'movie-enter': 7, 'dokujo-tsushin': 8}\n"
     ]
    },
    {
     "data": {
      "text/html": [
       "<div>\n",
       "<style scoped>\n",
       "    .dataframe tbody tr th:only-of-type {\n",
       "        vertical-align: middle;\n",
       "    }\n",
       "\n",
       "    .dataframe tbody tr th {\n",
       "        vertical-align: top;\n",
       "    }\n",
       "\n",
       "    .dataframe thead th {\n",
       "        text-align: right;\n",
       "    }\n",
       "</style>\n",
       "<table border=\"1\" class=\"dataframe\">\n",
       "  <thead>\n",
       "    <tr style=\"text-align: right;\">\n",
       "      <th></th>\n",
       "      <th>text</th>\n",
       "      <th>label_index</th>\n",
       "    </tr>\n",
       "  </thead>\n",
       "  <tbody>\n",
       "    <tr>\n",
       "      <th>0</th>\n",
       "      <td>アメリカの女子たちに大人気のドラマ「ゴシップガール」のシーズン2、「ゴシップガール2」が、い...</td>\n",
       "      <td>0</td>\n",
       "    </tr>\n",
       "    <tr>\n",
       "      <th>1</th>\n",
       "      <td>この冬、スマフォであなたの生活を楽しくする「au×Hangame ドキドキ スマフォキャンペ...</td>\n",
       "      <td>0</td>\n",
       "    </tr>\n",
       "    <tr>\n",
       "      <th>2</th>\n",
       "      <td>味噌汁専門店の「美噌元」より、今話題のトマトを使ったフリーズドライ味噌汁「トマトとオクラ」が...</td>\n",
       "      <td>0</td>\n",
       "    </tr>\n",
       "    <tr>\n",
       "      <th>3</th>\n",
       "      <td>最近は「カメラ女子」なんて言葉もあるほど、女子の間でもデジタル一眼が大ブーム。今まではケータ...</td>\n",
       "      <td>0</td>\n",
       "    </tr>\n",
       "    <tr>\n",
       "      <th>4</th>\n",
       "      <td>“カタツムリ”で、何を連想しますか？日本人にとって、カタツムリはあまり馴染みのないものですが...</td>\n",
       "      <td>0</td>\n",
       "    </tr>\n",
       "  </tbody>\n",
       "</table>\n",
       "</div>"
      ],
      "text/plain": [
       "                                                text  label_index\n",
       "0  アメリカの女子たちに大人気のドラマ「ゴシップガール」のシーズン2、「ゴシップガール2」が、い...            0\n",
       "1  この冬、スマフォであなたの生活を楽しくする「au×Hangame ドキドキ スマフォキャンペ...            0\n",
       "2  味噌汁専門店の「美噌元」より、今話題のトマトを使ったフリーズドライ味噌汁「トマトとオクラ」が...            0\n",
       "3  最近は「カメラ女子」なんて言葉もあるほど、女子の間でもデジタル一眼が大ブーム。今まではケータ...            0\n",
       "4  “カタツムリ”で、何を連想しますか？日本人にとって、カタツムリはあまり馴染みのないものですが...            0"
      ]
     },
     "execution_count": 19,
     "metadata": {},
     "output_type": "execute_result"
    }
   ],
   "source": [
    "# カテゴリーの辞書を作成\n",
    "dic_id2cat = dict(zip(list(range(len(categories))), categories))\n",
    "dic_cat2id = dict(zip(categories, list(range(len(categories)))))\n",
    "\n",
    "print(dic_id2cat)\n",
    "print(dic_cat2id)\n",
    "\n",
    "with open('./data/id2ctg.json', 'w') as f:\n",
    "    json.dump(dic_id2cat, f)\n",
    "with open('./data/ctg2id.json', 'w') as f:\n",
    "    json.dump(dic_cat2id, f)\n",
    "\n",
    "# DataFrameにカテゴリーindexの列を作成\n",
    "df[\"label_index\"] = df[\"label\"].map(dic_cat2id)\n",
    "df.head()\n",
    "\n",
    "# label列を消去し、text, indexの順番にする\n",
    "df = df.loc[:, [\"text\", \"label_index\"]]\n",
    "df.head()"
   ]
  },
  {
   "cell_type": "code",
   "execution_count": 20,
   "metadata": {},
   "outputs": [
    {
     "data": {
      "text/html": [
       "<div>\n",
       "<style scoped>\n",
       "    .dataframe tbody tr th:only-of-type {\n",
       "        vertical-align: middle;\n",
       "    }\n",
       "\n",
       "    .dataframe tbody tr th {\n",
       "        vertical-align: top;\n",
       "    }\n",
       "\n",
       "    .dataframe thead th {\n",
       "        text-align: right;\n",
       "    }\n",
       "</style>\n",
       "<table border=\"1\" class=\"dataframe\">\n",
       "  <thead>\n",
       "    <tr style=\"text-align: right;\">\n",
       "      <th></th>\n",
       "      <th>text</th>\n",
       "      <th>label_index</th>\n",
       "    </tr>\n",
       "  </thead>\n",
       "  <tbody>\n",
       "    <tr>\n",
       "      <th>0</th>\n",
       "      <td>ドコモの「MEDIAS PP N-01D」は、高精細ディスプレイが魅力の防水スマートフォンだ...</td>\n",
       "      <td>5</td>\n",
       "    </tr>\n",
       "    <tr>\n",
       "      <th>1</th>\n",
       "      <td>世のサラリーマン＆OLが仕事帰りにゴルフの練習に行くことは、それなりに敷居が高い。ゴルフ道具...</td>\n",
       "      <td>6</td>\n",
       "    </tr>\n",
       "    <tr>\n",
       "      <th>2</th>\n",
       "      <td>ゼロから始めるスマートフォンKyoceraは8日（現地時間）、ニューオリンズ（アメリカ）にて...</td>\n",
       "      <td>3</td>\n",
       "    </tr>\n",
       "    <tr>\n",
       "      <th>3</th>\n",
       "      <td>「Windows上でどのように物理メモリが割り当てられているのか？」「メモリー上にどのくらい...</td>\n",
       "      <td>5</td>\n",
       "    </tr>\n",
       "    <tr>\n",
       "      <th>4</th>\n",
       "      <td>10月8日に韓国を訪問したオダギリジョーが「適当にサインをした」という疑惑を、今になって韓国...</td>\n",
       "      <td>4</td>\n",
       "    </tr>\n",
       "  </tbody>\n",
       "</table>\n",
       "</div>"
      ],
      "text/plain": [
       "                                                text  label_index\n",
       "0  ドコモの「MEDIAS PP N-01D」は、高精細ディスプレイが魅力の防水スマートフォンだ...            5\n",
       "1  世のサラリーマン＆OLが仕事帰りにゴルフの練習に行くことは、それなりに敷居が高い。ゴルフ道具...            6\n",
       "2  ゼロから始めるスマートフォンKyoceraは8日（現地時間）、ニューオリンズ（アメリカ）にて...            3\n",
       "3  「Windows上でどのように物理メモリが割り当てられているのか？」「メモリー上にどのくらい...            5\n",
       "4  10月8日に韓国を訪問したオダギリジョーが「適当にサインをした」という疑惑を、今になって韓国...            4"
      ]
     },
     "execution_count": 20,
     "metadata": {},
     "output_type": "execute_result"
    }
   ],
   "source": [
    "# 順番をシャッフルする\n",
    "df = df.sample(frac=1, random_state=123).reset_index(drop=True)\n",
    "df.head()"
   ]
  },
  {
   "cell_type": "markdown",
   "metadata": {},
   "source": [
    "### tsvファイルで保存する"
   ]
  },
  {
   "cell_type": "code",
   "execution_count": 21,
   "metadata": {},
   "outputs": [
    {
     "name": "stdout",
     "output_type": "stream",
     "text": [
      "(1475, 2)\n",
      "(5901, 2)\n"
     ]
    }
   ],
   "source": [
    "# 全体の2割の文章数\n",
    "len_0_2 = len(df) // 5\n",
    "\n",
    "# 前から2割をテストデータとする\n",
    "df[:len_0_2].to_csv(\"./data/test.tsv\", sep='\\t', index=False)  # , header=None\n",
    "print(df[:len_0_2].shape)\n",
    "\n",
    "# 前2割からを訓練&検証データとする\n",
    "df[len_0_2:].to_csv(\"./data/train_eval.tsv\", sep='\\t', index=False)  # , header=None\n",
    "print(df[len_0_2:].shape)\n"
   ]
  },
  {
   "cell_type": "code",
   "execution_count": 22,
   "metadata": {},
   "outputs": [
    {
     "data": {
      "text/html": [
       "<div>\n",
       "<style scoped>\n",
       "    .dataframe tbody tr th:only-of-type {\n",
       "        vertical-align: middle;\n",
       "    }\n",
       "\n",
       "    .dataframe tbody tr th {\n",
       "        vertical-align: top;\n",
       "    }\n",
       "\n",
       "    .dataframe thead th {\n",
       "        text-align: right;\n",
       "    }\n",
       "</style>\n",
       "<table border=\"1\" class=\"dataframe\">\n",
       "  <thead>\n",
       "    <tr style=\"text-align: right;\">\n",
       "      <th></th>\n",
       "      <th>text</th>\n",
       "      <th>label_index</th>\n",
       "    </tr>\n",
       "  </thead>\n",
       "  <tbody>\n",
       "    <tr>\n",
       "      <th>0</th>\n",
       "      <td>ドコモの「MEDIAS PP N-01D」は、高精細ディスプレイが魅力の防水スマートフォンだ...</td>\n",
       "      <td>5</td>\n",
       "    </tr>\n",
       "    <tr>\n",
       "      <th>1</th>\n",
       "      <td>世のサラリーマン＆OLが仕事帰りにゴルフの練習に行くことは、それなりに敷居が高い。ゴルフ道具...</td>\n",
       "      <td>6</td>\n",
       "    </tr>\n",
       "    <tr>\n",
       "      <th>2</th>\n",
       "      <td>ゼロから始めるスマートフォンKyoceraは8日（現地時間）、ニューオリンズ（アメリカ）にて...</td>\n",
       "      <td>3</td>\n",
       "    </tr>\n",
       "    <tr>\n",
       "      <th>3</th>\n",
       "      <td>「Windows上でどのように物理メモリが割り当てられているのか？」「メモリー上にどのくらい...</td>\n",
       "      <td>5</td>\n",
       "    </tr>\n",
       "    <tr>\n",
       "      <th>4</th>\n",
       "      <td>10月8日に韓国を訪問したオダギリジョーが「適当にサインをした」という疑惑を、今になって韓国...</td>\n",
       "      <td>4</td>\n",
       "    </tr>\n",
       "    <tr>\n",
       "      <th>...</th>\n",
       "      <td>...</td>\n",
       "      <td>...</td>\n",
       "    </tr>\n",
       "    <tr>\n",
       "      <th>7371</th>\n",
       "      <td>カモフラで遊び心を——。メンズファッションで定番のカモフラ（迷彩）柄を、ゴルフウェアで取り入...</td>\n",
       "      <td>6</td>\n",
       "    </tr>\n",
       "    <tr>\n",
       "      <th>7372</th>\n",
       "      <td>22日に放送された「FNS27時間テレビ」（フジテレビ系）の1コーナーで、「放送事故があった...</td>\n",
       "      <td>4</td>\n",
       "    </tr>\n",
       "    <tr>\n",
       "      <th>7373</th>\n",
       "      <td>「三大広告賞」と呼ばれているのはカンヌ国際広告祭、クリオ賞そして「One Show」だ。この...</td>\n",
       "      <td>1</td>\n",
       "    </tr>\n",
       "    <tr>\n",
       "      <th>7374</th>\n",
       "      <td>6月からさらに便利になるそうですよ！国内最大級の携帯電話や無線技術に関連したイベント「WIR...</td>\n",
       "      <td>3</td>\n",
       "    </tr>\n",
       "    <tr>\n",
       "      <th>7375</th>\n",
       "      <td>今月13日、「NEWSポストセブン」は、母親が生活保護を受給していると知りながら、何らサポー...</td>\n",
       "      <td>4</td>\n",
       "    </tr>\n",
       "  </tbody>\n",
       "</table>\n",
       "<p>7376 rows × 2 columns</p>\n",
       "</div>"
      ],
      "text/plain": [
       "                                                   text  label_index\n",
       "0     ドコモの「MEDIAS PP N-01D」は、高精細ディスプレイが魅力の防水スマートフォンだ...            5\n",
       "1     世のサラリーマン＆OLが仕事帰りにゴルフの練習に行くことは、それなりに敷居が高い。ゴルフ道具...            6\n",
       "2     ゼロから始めるスマートフォンKyoceraは8日（現地時間）、ニューオリンズ（アメリカ）にて...            3\n",
       "3     「Windows上でどのように物理メモリが割り当てられているのか？」「メモリー上にどのくらい...            5\n",
       "4     10月8日に韓国を訪問したオダギリジョーが「適当にサインをした」という疑惑を、今になって韓国...            4\n",
       "...                                                 ...          ...\n",
       "7371  カモフラで遊び心を——。メンズファッションで定番のカモフラ（迷彩）柄を、ゴルフウェアで取り入...            6\n",
       "7372  22日に放送された「FNS27時間テレビ」（フジテレビ系）の1コーナーで、「放送事故があった...            4\n",
       "7373  「三大広告賞」と呼ばれているのはカンヌ国際広告祭、クリオ賞そして「One Show」だ。この...            1\n",
       "7374  6月からさらに便利になるそうですよ！国内最大級の携帯電話や無線技術に関連したイベント「WIR...            3\n",
       "7375  今月13日、「NEWSポストセブン」は、母親が生活保護を受給していると知りながら、何らサポー...            4\n",
       "\n",
       "[7376 rows x 2 columns]"
      ]
     },
     "execution_count": 22,
     "metadata": {},
     "output_type": "execute_result"
    }
   ],
   "source": [
    "df"
   ]
  },
  {
   "cell_type": "code",
   "execution_count": null,
   "metadata": {},
   "outputs": [],
   "source": []
  }
 ],
 "metadata": {
  "kernelspec": {
   "display_name": "Python 3",
   "language": "python",
   "name": "python3"
  },
  "language_info": {
   "codemirror_mode": {
    "name": "ipython",
    "version": 3
   },
   "file_extension": ".py",
   "mimetype": "text/x-python",
   "name": "python",
   "nbconvert_exporter": "python",
   "pygments_lexer": "ipython3",
   "version": "3.6.9"
  }
 },
 "nbformat": 4,
 "nbformat_minor": 4
}
